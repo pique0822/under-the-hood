{
 "cells": [
  {
   "cell_type": "code",
   "execution_count": 30,
   "metadata": {},
   "outputs": [],
   "source": [
    "import pandas as pd\n",
    "import matplotlib.pyplot as plt\n",
    "import seaborn as sns\n",
    "import numpy as np\n",
    "%matplotlib inline\n",
    "\n",
    "import scipy.stats as st"
   ]
  },
  {
   "cell_type": "code",
   "execution_count": 10,
   "metadata": {},
   "outputs": [
    {
     "data": {
      "text/html": [
       "<div>\n",
       "<style scoped>\n",
       "    .dataframe tbody tr th:only-of-type {\n",
       "        vertical-align: middle;\n",
       "    }\n",
       "\n",
       "    .dataframe tbody tr th {\n",
       "        vertical-align: top;\n",
       "    }\n",
       "\n",
       "    .dataframe thead th {\n",
       "        text-align: right;\n",
       "    }\n",
       "</style>\n",
       "<table border=\"1\" class=\"dataframe\">\n",
       "  <thead>\n",
       "    <tr style=\"text-align: right;\">\n",
       "      <th></th>\n",
       "      <th></th>\n",
       "      <th></th>\n",
       "      <th></th>\n",
       "      <th>index</th>\n",
       "      <th>agg_surprisal</th>\n",
       "      <th>time</th>\n",
       "    </tr>\n",
       "    <tr>\n",
       "      <th>model</th>\n",
       "      <th>condition</th>\n",
       "      <th>item_idx</th>\n",
       "      <th>region</th>\n",
       "      <th></th>\n",
       "      <th></th>\n",
       "      <th></th>\n",
       "    </tr>\n",
       "  </thead>\n",
       "  <tbody>\n",
       "    <tr>\n",
       "      <th rowspan=\"5\" valign=\"top\">baseline</th>\n",
       "      <th rowspan=\"5\" valign=\"top\">ambiguous_reduced</th>\n",
       "      <th rowspan=\"5\" valign=\"top\">('clifton2003', 0)</th>\n",
       "      <th>Ambiguous verb</th>\n",
       "      <td>0</td>\n",
       "      <td>9.929473</td>\n",
       "      <td>3</td>\n",
       "    </tr>\n",
       "    <tr>\n",
       "      <th>Disambiguator</th>\n",
       "      <td>0</td>\n",
       "      <td>27.471853</td>\n",
       "      <td>5</td>\n",
       "    </tr>\n",
       "    <tr>\n",
       "      <th>Noun</th>\n",
       "      <td>0</td>\n",
       "      <td>16.687321</td>\n",
       "      <td>1</td>\n",
       "    </tr>\n",
       "    <tr>\n",
       "      <th>RC contents</th>\n",
       "      <td>0</td>\n",
       "      <td>16.494986</td>\n",
       "      <td>4</td>\n",
       "    </tr>\n",
       "    <tr>\n",
       "      <th>Start</th>\n",
       "      <td>0</td>\n",
       "      <td>0.000000</td>\n",
       "      <td>0</td>\n",
       "    </tr>\n",
       "  </tbody>\n",
       "</table>\n",
       "</div>"
      ],
      "text/plain": [
       "                                                              index  \\\n",
       "model    condition         item_idx           region                  \n",
       "baseline ambiguous_reduced ('clifton2003', 0) Ambiguous verb      0   \n",
       "                                              Disambiguator       0   \n",
       "                                              Noun                0   \n",
       "                                              RC contents         0   \n",
       "                                              Start               0   \n",
       "\n",
       "                                                              agg_surprisal  \\\n",
       "model    condition         item_idx           region                          \n",
       "baseline ambiguous_reduced ('clifton2003', 0) Ambiguous verb       9.929473   \n",
       "                                              Disambiguator       27.471853   \n",
       "                                              Noun                16.687321   \n",
       "                                              RC contents         16.494986   \n",
       "                                              Start                0.000000   \n",
       "\n",
       "                                                              time  \n",
       "model    condition         item_idx           region                \n",
       "baseline ambiguous_reduced ('clifton2003', 0) Ambiguous verb     3  \n",
       "                                              Disambiguator      5  \n",
       "                                              Noun               1  \n",
       "                                              RC contents        4  \n",
       "                                              Start              0  "
      ]
     },
     "execution_count": 10,
     "metadata": {},
     "output_type": "execute_result"
    }
   ],
   "source": [
    "data = pd.read_csv(\"../output/base/graph_data.csv\").set_index([\"model\", \"condition\", \"item_idx\", \"region\"]).sort_index()\n",
    "data.head()"
   ]
  },
  {
   "cell_type": "code",
   "execution_count": 11,
   "metadata": {},
   "outputs": [
    {
     "data": {
      "text/html": [
       "<div>\n",
       "<style scoped>\n",
       "    .dataframe tbody tr th:only-of-type {\n",
       "        vertical-align: middle;\n",
       "    }\n",
       "\n",
       "    .dataframe tbody tr th {\n",
       "        vertical-align: top;\n",
       "    }\n",
       "\n",
       "    .dataframe thead th {\n",
       "        text-align: right;\n",
       "    }\n",
       "</style>\n",
       "<table border=\"1\" class=\"dataframe\">\n",
       "  <thead>\n",
       "    <tr style=\"text-align: right;\">\n",
       "      <th></th>\n",
       "      <th></th>\n",
       "      <th></th>\n",
       "      <th></th>\n",
       "      <th>index</th>\n",
       "      <th>agg_surprisal</th>\n",
       "      <th>time</th>\n",
       "    </tr>\n",
       "    <tr>\n",
       "      <th>model</th>\n",
       "      <th>condition</th>\n",
       "      <th>item_idx</th>\n",
       "      <th>region</th>\n",
       "      <th></th>\n",
       "      <th></th>\n",
       "      <th></th>\n",
       "    </tr>\n",
       "  </thead>\n",
       "  <tbody>\n",
       "    <tr>\n",
       "      <th rowspan=\"5\" valign=\"top\">baseline</th>\n",
       "      <th rowspan=\"5\" valign=\"top\">ambiguous_reduced</th>\n",
       "      <th>('clifton2003', 0)</th>\n",
       "      <th>Disambiguator</th>\n",
       "      <td>0</td>\n",
       "      <td>27.471853</td>\n",
       "      <td>5</td>\n",
       "    </tr>\n",
       "    <tr>\n",
       "      <th>('clifton2003', 1)</th>\n",
       "      <th>Disambiguator</th>\n",
       "      <td>4</td>\n",
       "      <td>25.432901</td>\n",
       "      <td>5</td>\n",
       "    </tr>\n",
       "    <tr>\n",
       "      <th>('clifton2003', 10)</th>\n",
       "      <th>Disambiguator</th>\n",
       "      <td>40</td>\n",
       "      <td>27.374937</td>\n",
       "      <td>5</td>\n",
       "    </tr>\n",
       "    <tr>\n",
       "      <th>('clifton2003', 11)</th>\n",
       "      <th>Disambiguator</th>\n",
       "      <td>44</td>\n",
       "      <td>30.891525</td>\n",
       "      <td>5</td>\n",
       "    </tr>\n",
       "    <tr>\n",
       "      <th>('clifton2003', 2)</th>\n",
       "      <th>Disambiguator</th>\n",
       "      <td>8</td>\n",
       "      <td>27.707792</td>\n",
       "      <td>5</td>\n",
       "    </tr>\n",
       "  </tbody>\n",
       "</table>\n",
       "</div>"
      ],
      "text/plain": [
       "                                                              index  \\\n",
       "model    condition         item_idx            region                 \n",
       "baseline ambiguous_reduced ('clifton2003', 0)  Disambiguator      0   \n",
       "                           ('clifton2003', 1)  Disambiguator      4   \n",
       "                           ('clifton2003', 10) Disambiguator     40   \n",
       "                           ('clifton2003', 11) Disambiguator     44   \n",
       "                           ('clifton2003', 2)  Disambiguator      8   \n",
       "\n",
       "                                                              agg_surprisal  \\\n",
       "model    condition         item_idx            region                         \n",
       "baseline ambiguous_reduced ('clifton2003', 0)  Disambiguator      27.471853   \n",
       "                           ('clifton2003', 1)  Disambiguator      25.432901   \n",
       "                           ('clifton2003', 10) Disambiguator      27.374937   \n",
       "                           ('clifton2003', 11) Disambiguator      30.891525   \n",
       "                           ('clifton2003', 2)  Disambiguator      27.707792   \n",
       "\n",
       "                                                              time  \n",
       "model    condition         item_idx            region               \n",
       "baseline ambiguous_reduced ('clifton2003', 0)  Disambiguator     5  \n",
       "                           ('clifton2003', 1)  Disambiguator     5  \n",
       "                           ('clifton2003', 10) Disambiguator     5  \n",
       "                           ('clifton2003', 11) Disambiguator     5  \n",
       "                           ('clifton2003', 2)  Disambiguator     5  "
      ]
     },
     "execution_count": 11,
     "metadata": {},
     "output_type": "execute_result"
    }
   ],
   "source": [
    "baseline = data.loc[\"baseline\", \"ambiguous_reduced\", :, \"Disambiguator\"]\n",
    "baseline.head()"
   ]
  },
  {
   "cell_type": "code",
   "execution_count": 42,
   "metadata": {},
   "outputs": [
    {
     "data": {
      "text/html": [
       "<div>\n",
       "<style scoped>\n",
       "    .dataframe tbody tr th:only-of-type {\n",
       "        vertical-align: middle;\n",
       "    }\n",
       "\n",
       "    .dataframe tbody tr th {\n",
       "        vertical-align: top;\n",
       "    }\n",
       "\n",
       "    .dataframe thead th {\n",
       "        text-align: right;\n",
       "    }\n",
       "</style>\n",
       "<table border=\"1\" class=\"dataframe\">\n",
       "  <thead>\n",
       "    <tr style=\"text-align: right;\">\n",
       "      <th></th>\n",
       "      <th></th>\n",
       "      <th></th>\n",
       "      <th></th>\n",
       "      <th>index</th>\n",
       "      <th>agg_surprisal</th>\n",
       "      <th>time</th>\n",
       "    </tr>\n",
       "    <tr>\n",
       "      <th>model</th>\n",
       "      <th>condition</th>\n",
       "      <th>item_idx</th>\n",
       "      <th>region</th>\n",
       "      <th></th>\n",
       "      <th></th>\n",
       "      <th></th>\n",
       "    </tr>\n",
       "  </thead>\n",
       "  <tbody>\n",
       "    <tr>\n",
       "      <th rowspan=\"5\" valign=\"top\">surgery_10.000000</th>\n",
       "      <th rowspan=\"5\" valign=\"top\">ambiguous_reduced</th>\n",
       "      <th>('clifton2003', 0)</th>\n",
       "      <th>Disambiguator</th>\n",
       "      <td>0</td>\n",
       "      <td>25.566574</td>\n",
       "      <td>5</td>\n",
       "    </tr>\n",
       "    <tr>\n",
       "      <th>('clifton2003', 1)</th>\n",
       "      <th>Disambiguator</th>\n",
       "      <td>4</td>\n",
       "      <td>24.628550</td>\n",
       "      <td>5</td>\n",
       "    </tr>\n",
       "    <tr>\n",
       "      <th>('clifton2003', 10)</th>\n",
       "      <th>Disambiguator</th>\n",
       "      <td>40</td>\n",
       "      <td>25.576254</td>\n",
       "      <td>5</td>\n",
       "    </tr>\n",
       "    <tr>\n",
       "      <th>('clifton2003', 11)</th>\n",
       "      <th>Disambiguator</th>\n",
       "      <td>44</td>\n",
       "      <td>31.829256</td>\n",
       "      <td>5</td>\n",
       "    </tr>\n",
       "    <tr>\n",
       "      <th>('clifton2003', 2)</th>\n",
       "      <th>Disambiguator</th>\n",
       "      <td>8</td>\n",
       "      <td>21.884193</td>\n",
       "      <td>5</td>\n",
       "    </tr>\n",
       "  </tbody>\n",
       "</table>\n",
       "</div>"
      ],
      "text/plain": [
       "                                                                       index  \\\n",
       "model             condition         item_idx            region                 \n",
       "surgery_10.000000 ambiguous_reduced ('clifton2003', 0)  Disambiguator      0   \n",
       "                                    ('clifton2003', 1)  Disambiguator      4   \n",
       "                                    ('clifton2003', 10) Disambiguator     40   \n",
       "                                    ('clifton2003', 11) Disambiguator     44   \n",
       "                                    ('clifton2003', 2)  Disambiguator      8   \n",
       "\n",
       "                                                                       agg_surprisal  \\\n",
       "model             condition         item_idx            region                         \n",
       "surgery_10.000000 ambiguous_reduced ('clifton2003', 0)  Disambiguator      25.566574   \n",
       "                                    ('clifton2003', 1)  Disambiguator      24.628550   \n",
       "                                    ('clifton2003', 10) Disambiguator      25.576254   \n",
       "                                    ('clifton2003', 11) Disambiguator      31.829256   \n",
       "                                    ('clifton2003', 2)  Disambiguator      21.884193   \n",
       "\n",
       "                                                                       time  \n",
       "model             condition         item_idx            region               \n",
       "surgery_10.000000 ambiguous_reduced ('clifton2003', 0)  Disambiguator     5  \n",
       "                                    ('clifton2003', 1)  Disambiguator     5  \n",
       "                                    ('clifton2003', 10) Disambiguator     5  \n",
       "                                    ('clifton2003', 11) Disambiguator     5  \n",
       "                                    ('clifton2003', 2)  Disambiguator     5  "
      ]
     },
     "execution_count": 42,
     "metadata": {},
     "output_type": "execute_result"
    }
   ],
   "source": [
    "surg_models = ['surgery_0.100000', 'surgery_1.000000', 'surgery_10.000000']\n",
    "surg_model = surg_models[2]\n",
    "surg_data = data.loc[surg_model, \"ambiguous_reduced\", :, \"Disambiguator\"]\n",
    "surg_data.head()"
   ]
  },
  {
   "cell_type": "code",
   "execution_count": 43,
   "metadata": {},
   "outputs": [
    {
     "data": {
      "text/plain": [
       "[<matplotlib.lines.Line2D at 0x7fe258581a58>]"
      ]
     },
     "execution_count": 43,
     "metadata": {},
     "output_type": "execute_result"
    },
    {
     "data": {
      "image/png": "[encoded data removed]",
      "text/plain": [
       "<Figure size 432x288 with 1 Axes>"
      ]
     },
     "metadata": {},
     "output_type": "display_data"
    }
   ],
   "source": [
    "scatter_data = baseline.reset_index(level=[\"model\", \"condition\", \"region\"], drop=True).join(\n",
    "    surg_data.reset_index(level=[\"model\", \"condition\", \"region\"], drop=True), lsuffix=\"_baseline\", rsuffix=\"_surg\")\n",
    "\n",
    "ax = sns.scatterplot(data=scatter_data, x=\"agg_surprisal_baseline\", y=\"agg_surprisal_surg\")\n",
    "ax.set_xlim((0, 35))\n",
    "ax.set_ylim((0, 35))\n",
    "# plot x=y\n",
    "ax.plot([0,1],[0,1], transform=ax.transAxes)"
   ]
  },
  {
   "cell_type": "code",
   "execution_count": 44,
   "metadata": {},
   "outputs": [
    {
     "name": "stderr",
     "output_type": "stream",
     "text": [
      "/home/jon/anaconda3/lib/python3.6/site-packages/scipy/stats/stats.py:1706: FutureWarning: Using a non-tuple sequence for multidimensional indexing is deprecated; use `arr[tuple(seq)]` instead of `arr[seq]`. In the future this will be interpreted as an array index, `arr[np.array(seq)]`, which will result either in an error or a different result.\n",
      "  return np.add.reduce(sorted[indexer] * weights, axis=axis) / sumval\n"
     ]
    },
    {
     "data": {
      "text/plain": [
       "<matplotlib.axes._subplots.AxesSubplot at 0x7fe23393f9e8>"
      ]
     },
     "execution_count": 44,
     "metadata": {},
     "output_type": "execute_result"
    },
    {
     "data": {
      "image/png": "[encoded data removed]",
      "text/plain": [
       "<Figure size 432x288 with 1 Axes>"
      ]
     },
     "metadata": {},
     "output_type": "display_data"
    }
   ],
   "source": [
    "sns.distplot(scatter_data.agg_surprisal_baseline)"
   ]
  },
  {
   "cell_type": "code",
   "execution_count": 45,
   "metadata": {},
   "outputs": [
    {
     "name": "stderr",
     "output_type": "stream",
     "text": [
      "/home/jon/anaconda3/lib/python3.6/site-packages/scipy/stats/stats.py:1706: FutureWarning: Using a non-tuple sequence for multidimensional indexing is deprecated; use `arr[tuple(seq)]` instead of `arr[seq]`. In the future this will be interpreted as an array index, `arr[np.array(seq)]`, which will result either in an error or a different result.\n",
      "  return np.add.reduce(sorted[indexer] * weights, axis=axis) / sumval\n"
     ]
    },
    {
     "data": {
      "text/plain": [
       "<matplotlib.axes._subplots.AxesSubplot at 0x7fe2338207b8>"
      ]
     },
     "execution_count": 45,
     "metadata": {},
     "output_type": "execute_result"
    },
    {
     "data": {
      "image/png": "[encoded data removed]",
      "text/plain": [
       "<Figure size 432x288 with 1 Axes>"
      ]
     },
     "metadata": {},
     "output_type": "display_data"
    }
   ],
   "source": [
    "sns.distplot(scatter_data.agg_surprisal_surg)"
   ]
  },
  {
   "cell_type": "code",
   "execution_count": 46,
   "metadata": {},
   "outputs": [
    {
     "data": {
      "text/plain": [
       "Ttest_relResult(statistic=0.03708591390588556, pvalue=0.9705671823856444)"
      ]
     },
     "execution_count": 46,
     "metadata": {},
     "output_type": "execute_result"
    }
   ],
   "source": [
    "st.ttest_rel(scatter_data.agg_surprisal_baseline, scatter_data.agg_surprisal_surg)"
   ]
  }
 ],
 "metadata": {
  "kernelspec": {
   "display_name": "Python 3",
   "language": "python",
   "name": "python3"
  },
  "language_info": {
   "codemirror_mode": {
    "name": "ipython",
    "version": 3
   },
   "file_extension": ".py",
   "mimetype": "text/x-python",
   "name": "python",
   "nbconvert_exporter": "python",
   "pygments_lexer": "ipython3",
   "version": "3.6.8"
  }
 },
 "nbformat": 4,
 "nbformat_minor": 2
}
